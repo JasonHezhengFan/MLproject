{
 "cells": [
  {
   "cell_type": "code",
   "execution_count": 1,
   "metadata": {},
   "outputs": [],
   "source": [
    "import numpy as np # imports a fast numerical programming library\n",
    "import matplotlib.pyplot as plt #sets up plotting under plt\n",
    "import pandas as pd #lets us handle data as dataframes\n",
    "from sklearn.model_selection import train_test_split\n",
    "import time"
   ]
  },
  {
   "cell_type": "code",
   "execution_count": 2,
   "metadata": {},
   "outputs": [
    {
     "data": {
      "text/plain": [
       "Index(['Parameter1', 'Parameter2', 'Parameter3', 'Parameter4', 'Parameter5',\n",
       "       'Parameter6', 'Parameter7', 'Parameter8', 'Parameter9', 'Parameter10',\n",
       "       'Attribute1', 'Attribute2', 'Attribute3', 'Attribute4', 'Attribute5',\n",
       "       'Attribute6', 'Attribute7', 'Attribute8', 'Attribute9', 'Attribute10',\n",
       "       'Quality_label'],\n",
       "      dtype='object')"
      ]
     },
     "execution_count": 2,
     "metadata": {},
     "output_type": "execute_result"
    }
   ],
   "source": [
    "#exploratory data analysis\n",
    "dfdata=pd.read_csv(\"first_training_data.csv\")\n",
    "dfdata.columns"
   ]
  },
  {
   "cell_type": "code",
   "execution_count": 3,
   "metadata": {},
   "outputs": [
    {
     "name": "stderr",
     "output_type": "stream",
     "text": [
      "D:\\anaconda\\lib\\site-packages\\ipykernel_launcher.py:4: UserWarning: To output multiple subplots, the figure containing the passed axes is being cleared\n",
      "  after removing the cwd from sys.path.\n"
     ]
    },
    {
     "data": {
      "text/plain": [
       "<Figure size 144x144 with 0 Axes>"
      ]
     },
     "metadata": {},
     "output_type": "display_data"
    },
    {
     "data": {
      "image/png": "[encoded data removed]",
      "text/plain": [
       "<Figure size 720x360 with 4 Axes>"
      ]
     },
     "metadata": {
      "needs_background": "light"
     },
     "output_type": "display_data"
    }
   ],
   "source": [
    "from pandas.plotting import scatter_matrix\n",
    "plt.figure(figsize=(2,2))\n",
    "fig, ax = plt.subplots(1,1, figsize=(10,5))\n",
    "axes = scatter_matrix(dfdata[['Parameter1', 'Parameter2']], alpha=0.5, diagonal='kde', ax=ax)"
   ]
  },
  {
   "cell_type": "code",
   "execution_count": 4,
   "metadata": {
    "scrolled": false
   },
   "outputs": [
    {
     "data": {
      "text/plain": [
       "(array([876.,   6.,   2.,   1.,   1.,   0.,   3.,   0.,   0.,   0.,   0.,\n",
       "          1.,   0.,   0.,   2.]),\n",
       " array([3.83285471e-05, 1.05946086e+03, 2.11892168e+03, 3.17838251e+03,\n",
       "        4.23784333e+03, 5.29730415e+03, 6.35676498e+03, 7.41622580e+03,\n",
       "        8.47568662e+03, 9.53514744e+03, 1.05946083e+04, 1.16540691e+04,\n",
       "        1.27135299e+04, 1.37729907e+04, 1.48324516e+04, 1.58919124e+04]),\n",
       " <a list of 15 Patch objects>)"
      ]
     },
     "execution_count": 4,
     "metadata": {},
     "output_type": "execute_result"
    },
    {
     "data": {
      "image/png": "[encoded data removed]",
      "text/plain": [
       "<Figure size 432x288 with 1 Axes>"
      ]
     },
     "metadata": {
      "needs_background": "light"
     },
     "output_type": "display_data"
    }
   ],
   "source": [
    "plt.hist(dfdata[dfdata['Quality_label']==\"Fail\"].Parameter3.values, bins=15, alpha=0.5)"
   ]
  },
  {
   "cell_type": "code",
   "execution_count": 5,
   "metadata": {
    "scrolled": false
   },
   "outputs": [
    {
     "data": {
      "text/html": [
       "<div>\n",
       "<style scoped>\n",
       "    .dataframe tbody tr th:only-of-type {\n",
       "        vertical-align: middle;\n",
       "    }\n",
       "\n",
       "    .dataframe tbody tr th {\n",
       "        vertical-align: top;\n",
       "    }\n",
       "\n",
       "    .dataframe thead th {\n",
       "        text-align: right;\n",
       "    }\n",
       "</style>\n",
       "<table border=\"1\" class=\"dataframe\">\n",
       "  <thead>\n",
       "    <tr style=\"text-align: right;\">\n",
       "      <th></th>\n",
       "      <th>Parameter1</th>\n",
       "      <th>Parameter2</th>\n",
       "      <th>Parameter3</th>\n",
       "      <th>Parameter4</th>\n",
       "      <th>Parameter5</th>\n",
       "      <th>Parameter6</th>\n",
       "      <th>Parameter7</th>\n",
       "      <th>Parameter8</th>\n",
       "      <th>Parameter9</th>\n",
       "      <th>Parameter10</th>\n",
       "      <th>...</th>\n",
       "      <th>Attribute2</th>\n",
       "      <th>Attribute3</th>\n",
       "      <th>Attribute4</th>\n",
       "      <th>Attribute5</th>\n",
       "      <th>Attribute6</th>\n",
       "      <th>Attribute7</th>\n",
       "      <th>Attribute8</th>\n",
       "      <th>Attribute9</th>\n",
       "      <th>Attribute10</th>\n",
       "      <th>Quality_label</th>\n",
       "    </tr>\n",
       "  </thead>\n",
       "  <tbody>\n",
       "    <tr>\n",
       "      <td>0</td>\n",
       "      <td>0.001660</td>\n",
       "      <td>0.591013</td>\n",
       "      <td>147.608373</td>\n",
       "      <td>38.186345</td>\n",
       "      <td>0.000421</td>\n",
       "      <td>0.000612</td>\n",
       "      <td>2286.523413</td>\n",
       "      <td>0.035407</td>\n",
       "      <td>0.593081</td>\n",
       "      <td>1.010385</td>\n",
       "      <td>...</td>\n",
       "      <td>0.168761</td>\n",
       "      <td>1.098755</td>\n",
       "      <td>36.955992</td>\n",
       "      <td>8.454598</td>\n",
       "      <td>11.438066</td>\n",
       "      <td>177.243120</td>\n",
       "      <td>338.729256</td>\n",
       "      <td>2.021704</td>\n",
       "      <td>0.079526</td>\n",
       "      <td>Pass</td>\n",
       "    </tr>\n",
       "    <tr>\n",
       "      <td>1</td>\n",
       "      <td>1.601749</td>\n",
       "      <td>0.015052</td>\n",
       "      <td>0.035864</td>\n",
       "      <td>51.130326</td>\n",
       "      <td>0.000909</td>\n",
       "      <td>0.002397</td>\n",
       "      <td>2286.523413</td>\n",
       "      <td>0.035407</td>\n",
       "      <td>0.593081</td>\n",
       "      <td>1.010385</td>\n",
       "      <td>...</td>\n",
       "      <td>11.649033</td>\n",
       "      <td>0.066671</td>\n",
       "      <td>225.632949</td>\n",
       "      <td>0.481860</td>\n",
       "      <td>20597.447822</td>\n",
       "      <td>3.723330</td>\n",
       "      <td>15.376190</td>\n",
       "      <td>0.986973</td>\n",
       "      <td>4.634376</td>\n",
       "      <td>Fail</td>\n",
       "    </tr>\n",
       "    <tr>\n",
       "      <td>2</td>\n",
       "      <td>0.098039</td>\n",
       "      <td>69.233685</td>\n",
       "      <td>0.080920</td>\n",
       "      <td>0.112265</td>\n",
       "      <td>0.000909</td>\n",
       "      <td>0.001972</td>\n",
       "      <td>2286.523413</td>\n",
       "      <td>0.035407</td>\n",
       "      <td>0.593081</td>\n",
       "      <td>1.010385</td>\n",
       "      <td>...</td>\n",
       "      <td>0.078213</td>\n",
       "      <td>110.079689</td>\n",
       "      <td>2.208138</td>\n",
       "      <td>0.073525</td>\n",
       "      <td>236.079314</td>\n",
       "      <td>0.064196</td>\n",
       "      <td>0.576302</td>\n",
       "      <td>33.875790</td>\n",
       "      <td>1.813727</td>\n",
       "      <td>Fail</td>\n",
       "    </tr>\n",
       "    <tr>\n",
       "      <td>3</td>\n",
       "      <td>18.181860</td>\n",
       "      <td>0.047325</td>\n",
       "      <td>0.018061</td>\n",
       "      <td>1.098102</td>\n",
       "      <td>0.000909</td>\n",
       "      <td>0.002397</td>\n",
       "      <td>2286.523413</td>\n",
       "      <td>0.035407</td>\n",
       "      <td>0.593081</td>\n",
       "      <td>1.010385</td>\n",
       "      <td>...</td>\n",
       "      <td>0.380281</td>\n",
       "      <td>0.011491</td>\n",
       "      <td>0.654517</td>\n",
       "      <td>0.025872</td>\n",
       "      <td>176.948915</td>\n",
       "      <td>0.029777</td>\n",
       "      <td>0.246726</td>\n",
       "      <td>27.117165</td>\n",
       "      <td>0.081819</td>\n",
       "      <td>Fail</td>\n",
       "    </tr>\n",
       "    <tr>\n",
       "      <td>4</td>\n",
       "      <td>0.012085</td>\n",
       "      <td>0.008749</td>\n",
       "      <td>0.005509</td>\n",
       "      <td>524.327396</td>\n",
       "      <td>0.000909</td>\n",
       "      <td>0.002397</td>\n",
       "      <td>2286.523413</td>\n",
       "      <td>0.035407</td>\n",
       "      <td>0.593081</td>\n",
       "      <td>1.010385</td>\n",
       "      <td>...</td>\n",
       "      <td>1.555672</td>\n",
       "      <td>38.613386</td>\n",
       "      <td>0.260989</td>\n",
       "      <td>0.009380</td>\n",
       "      <td>194.798039</td>\n",
       "      <td>0.055053</td>\n",
       "      <td>0.014725</td>\n",
       "      <td>13.569707</td>\n",
       "      <td>18.138496</td>\n",
       "      <td>Fail</td>\n",
       "    </tr>\n",
       "    <tr>\n",
       "      <td>...</td>\n",
       "      <td>...</td>\n",
       "      <td>...</td>\n",
       "      <td>...</td>\n",
       "      <td>...</td>\n",
       "      <td>...</td>\n",
       "      <td>...</td>\n",
       "      <td>...</td>\n",
       "      <td>...</td>\n",
       "      <td>...</td>\n",
       "      <td>...</td>\n",
       "      <td>...</td>\n",
       "      <td>...</td>\n",
       "      <td>...</td>\n",
       "      <td>...</td>\n",
       "      <td>...</td>\n",
       "      <td>...</td>\n",
       "      <td>...</td>\n",
       "      <td>...</td>\n",
       "      <td>...</td>\n",
       "      <td>...</td>\n",
       "      <td>...</td>\n",
       "    </tr>\n",
       "    <tr>\n",
       "      <td>95</td>\n",
       "      <td>0.749375</td>\n",
       "      <td>9.269163</td>\n",
       "      <td>0.000406</td>\n",
       "      <td>0.510580</td>\n",
       "      <td>7.456215</td>\n",
       "      <td>12.777380</td>\n",
       "      <td>0.152059</td>\n",
       "      <td>0.035407</td>\n",
       "      <td>0.593081</td>\n",
       "      <td>37.407054</td>\n",
       "      <td>...</td>\n",
       "      <td>52.341864</td>\n",
       "      <td>2.925608</td>\n",
       "      <td>0.218443</td>\n",
       "      <td>0.049883</td>\n",
       "      <td>10.390009</td>\n",
       "      <td>0.013219</td>\n",
       "      <td>0.016429</td>\n",
       "      <td>1315.725395</td>\n",
       "      <td>12.183069</td>\n",
       "      <td>Pass</td>\n",
       "    </tr>\n",
       "    <tr>\n",
       "      <td>96</td>\n",
       "      <td>0.151515</td>\n",
       "      <td>0.114073</td>\n",
       "      <td>4.004610</td>\n",
       "      <td>0.674398</td>\n",
       "      <td>7.456215</td>\n",
       "      <td>10.513382</td>\n",
       "      <td>0.152059</td>\n",
       "      <td>0.035407</td>\n",
       "      <td>0.593081</td>\n",
       "      <td>37.407054</td>\n",
       "      <td>...</td>\n",
       "      <td>0.197832</td>\n",
       "      <td>205.250802</td>\n",
       "      <td>0.372554</td>\n",
       "      <td>0.019778</td>\n",
       "      <td>114.824049</td>\n",
       "      <td>0.055053</td>\n",
       "      <td>0.046476</td>\n",
       "      <td>7.876382</td>\n",
       "      <td>0.034872</td>\n",
       "      <td>Fail</td>\n",
       "    </tr>\n",
       "    <tr>\n",
       "      <td>97</td>\n",
       "      <td>2.455755</td>\n",
       "      <td>0.001798</td>\n",
       "      <td>3.716348</td>\n",
       "      <td>15.755484</td>\n",
       "      <td>7.456215</td>\n",
       "      <td>10.513382</td>\n",
       "      <td>0.152059</td>\n",
       "      <td>0.035407</td>\n",
       "      <td>0.593081</td>\n",
       "      <td>37.407054</td>\n",
       "      <td>...</td>\n",
       "      <td>2165.984417</td>\n",
       "      <td>0.115229</td>\n",
       "      <td>2.717631</td>\n",
       "      <td>0.228517</td>\n",
       "      <td>55.848020</td>\n",
       "      <td>0.766699</td>\n",
       "      <td>0.969314</td>\n",
       "      <td>3.234046</td>\n",
       "      <td>0.054955</td>\n",
       "      <td>Good</td>\n",
       "    </tr>\n",
       "    <tr>\n",
       "      <td>98</td>\n",
       "      <td>0.391458</td>\n",
       "      <td>768.446799</td>\n",
       "      <td>143.108119</td>\n",
       "      <td>0.853814</td>\n",
       "      <td>17.962176</td>\n",
       "      <td>27.876563</td>\n",
       "      <td>0.152059</td>\n",
       "      <td>0.035407</td>\n",
       "      <td>0.593081</td>\n",
       "      <td>37.407054</td>\n",
       "      <td>...</td>\n",
       "      <td>0.073839</td>\n",
       "      <td>0.018120</td>\n",
       "      <td>0.293863</td>\n",
       "      <td>0.051394</td>\n",
       "      <td>15.260285</td>\n",
       "      <td>0.224301</td>\n",
       "      <td>0.215174</td>\n",
       "      <td>0.070033</td>\n",
       "      <td>0.166535</td>\n",
       "      <td>Pass</td>\n",
       "    </tr>\n",
       "    <tr>\n",
       "      <td>99</td>\n",
       "      <td>0.010935</td>\n",
       "      <td>0.005167</td>\n",
       "      <td>0.349733</td>\n",
       "      <td>0.446731</td>\n",
       "      <td>11.572807</td>\n",
       "      <td>22.937172</td>\n",
       "      <td>0.152059</td>\n",
       "      <td>0.035407</td>\n",
       "      <td>0.593081</td>\n",
       "      <td>37.407054</td>\n",
       "      <td>...</td>\n",
       "      <td>4.357919</td>\n",
       "      <td>0.041001</td>\n",
       "      <td>0.046725</td>\n",
       "      <td>0.011909</td>\n",
       "      <td>8.170982</td>\n",
       "      <td>0.038750</td>\n",
       "      <td>0.008289</td>\n",
       "      <td>16.133884</td>\n",
       "      <td>0.329465</td>\n",
       "      <td>Pass</td>\n",
       "    </tr>\n",
       "  </tbody>\n",
       "</table>\n",
       "<p>100 rows × 21 columns</p>\n",
       "</div>"
      ],
      "text/plain": [
       "    Parameter1  Parameter2  Parameter3  Parameter4  Parameter5  Parameter6  \\\n",
       "0     0.001660    0.591013  147.608373   38.186345    0.000421    0.000612   \n",
       "1     1.601749    0.015052    0.035864   51.130326    0.000909    0.002397   \n",
       "2     0.098039   69.233685    0.080920    0.112265    0.000909    0.001972   \n",
       "3    18.181860    0.047325    0.018061    1.098102    0.000909    0.002397   \n",
       "4     0.012085    0.008749    0.005509  524.327396    0.000909    0.002397   \n",
       "..         ...         ...         ...         ...         ...         ...   \n",
       "95    0.749375    9.269163    0.000406    0.510580    7.456215   12.777380   \n",
       "96    0.151515    0.114073    4.004610    0.674398    7.456215   10.513382   \n",
       "97    2.455755    0.001798    3.716348   15.755484    7.456215   10.513382   \n",
       "98    0.391458  768.446799  143.108119    0.853814   17.962176   27.876563   \n",
       "99    0.010935    0.005167    0.349733    0.446731   11.572807   22.937172   \n",
       "\n",
       "     Parameter7  Parameter8  Parameter9  Parameter10  ...   Attribute2  \\\n",
       "0   2286.523413    0.035407    0.593081     1.010385  ...     0.168761   \n",
       "1   2286.523413    0.035407    0.593081     1.010385  ...    11.649033   \n",
       "2   2286.523413    0.035407    0.593081     1.010385  ...     0.078213   \n",
       "3   2286.523413    0.035407    0.593081     1.010385  ...     0.380281   \n",
       "4   2286.523413    0.035407    0.593081     1.010385  ...     1.555672   \n",
       "..          ...         ...         ...          ...  ...          ...   \n",
       "95     0.152059    0.035407    0.593081    37.407054  ...    52.341864   \n",
       "96     0.152059    0.035407    0.593081    37.407054  ...     0.197832   \n",
       "97     0.152059    0.035407    0.593081    37.407054  ...  2165.984417   \n",
       "98     0.152059    0.035407    0.593081    37.407054  ...     0.073839   \n",
       "99     0.152059    0.035407    0.593081    37.407054  ...     4.357919   \n",
       "\n",
       "    Attribute3  Attribute4  Attribute5    Attribute6  Attribute7  Attribute8  \\\n",
       "0     1.098755   36.955992    8.454598     11.438066  177.243120  338.729256   \n",
       "1     0.066671  225.632949    0.481860  20597.447822    3.723330   15.376190   \n",
       "2   110.079689    2.208138    0.073525    236.079314    0.064196    0.576302   \n",
       "3     0.011491    0.654517    0.025872    176.948915    0.029777    0.246726   \n",
       "4    38.613386    0.260989    0.009380    194.798039    0.055053    0.014725   \n",
       "..         ...         ...         ...           ...         ...         ...   \n",
       "95    2.925608    0.218443    0.049883     10.390009    0.013219    0.016429   \n",
       "96  205.250802    0.372554    0.019778    114.824049    0.055053    0.046476   \n",
       "97    0.115229    2.717631    0.228517     55.848020    0.766699    0.969314   \n",
       "98    0.018120    0.293863    0.051394     15.260285    0.224301    0.215174   \n",
       "99    0.041001    0.046725    0.011909      8.170982    0.038750    0.008289   \n",
       "\n",
       "     Attribute9  Attribute10  Quality_label  \n",
       "0      2.021704     0.079526           Pass  \n",
       "1      0.986973     4.634376           Fail  \n",
       "2     33.875790     1.813727           Fail  \n",
       "3     27.117165     0.081819           Fail  \n",
       "4     13.569707    18.138496           Fail  \n",
       "..          ...          ...            ...  \n",
       "95  1315.725395    12.183069           Pass  \n",
       "96     7.876382     0.034872           Fail  \n",
       "97     3.234046     0.054955           Good  \n",
       "98     0.070033     0.166535           Pass  \n",
       "99    16.133884     0.329465           Pass  \n",
       "\n",
       "[100 rows x 21 columns]"
      ]
     },
     "execution_count": 5,
     "metadata": {},
     "output_type": "execute_result"
    }
   ],
   "source": [
    "data=pd.read_csv(\"first_training_data.csv\")\n",
    "data.head(100)"
   ]
  },
  {
   "cell_type": "code",
   "execution_count": 6,
   "metadata": {},
   "outputs": [],
   "source": [
    "diction = dict(Fail=0, Pass=1,Good=2,Excellent=3)\n",
    "data['Quality_label'] = data['Quality_label'].apply(lambda x: diction[x])"
   ]
  },
  {
   "cell_type": "code",
   "execution_count": 7,
   "metadata": {},
   "outputs": [],
   "source": [
    "pdata=data\n",
    "pdata=pdata.drop([\"Quality_label\"],axis=1)\n",
    "for i in pdata.columns:\n",
    "    idmin=data[i].idxmin()\n",
    "    idmax=data[i].idxmax()\n",
    "    matrix_min=np.full(data[i].shape,data[i].loc[idmin])\n",
    "    matrix_max=np.full(data[i].shape,data[i].loc[idmax])\n",
    "    data[i]=(data[i]-matrix_min)/((matrix_max)-(matrix_min))"
   ]
  },
  {
   "cell_type": "code",
   "execution_count": 8,
   "metadata": {},
   "outputs": [],
   "source": [
    "data.to_csv(\"cleaned data1.csv\", index=False)"
   ]
  },
  {
   "cell_type": "code",
   "execution_count": 9,
   "metadata": {},
   "outputs": [],
   "source": [
    "train_idx,test_idx=train_test_split(range(data.shape[0]), train_size=0.9)\n",
    "train_data=data.iloc[train_idx]\n",
    "test_data=data.iloc[test_idx]\n",
    "train_x=train_data\n",
    "train_x=train_x.drop(['Quality_label'],axis=1)\n",
    "train_x=np.array(train_x)\n",
    "test_x=test_data\n",
    "test_x=test_x.drop(['Quality_label'],axis=1)\n",
    "test_x=np.array(test_x)\n",
    "train_y=np.array(train_data['Quality_label']).astype('int')\n",
    "test_y=np.array(test_data['Quality_label']).astype('int')"
   ]
  },
  {
   "cell_type": "code",
   "execution_count": 10,
   "metadata": {},
   "outputs": [],
   "source": [
    "#clean outliers\n",
    "from sklearn.neighbors import KNeighborsClassifier\n",
    "from sklearn.model_selection import GridSearchCV\n",
    "import operator\n",
    "neigh = KNeighborsClassifier()\n",
    "parameters = {\"n_neighbors\":[2,3,4,5,6,7]}\n",
    "cv=GridSearchCV(neigh, param_grid=parameters, cv=4,n_jobs=1)\n",
    "cv_result = cv.fit(train_x,train_y)\n",
    "cv_result.best_params_\n",
    "neigh = KNeighborsClassifier(n_neighbors=cv_result.best_params_['n_neighbors'])\n",
    "neigh.fit(train_x,train_y)\n",
    "prey=neigh.predict(train_x)\n",
    "resi=train_y-prey\n",
    "#delete 5% of the distant data\n",
    "for i in range(int(len(train_x)*0.05)):\n",
    "    max_index, max_number = max(enumerate(abs(resi)), key=operator.itemgetter(1))\n",
    "    if max_number!=0:\n",
    "        resi=np.delete(resi,max_index,axis=0)\n",
    "        train_x=np.delete(train_x,max_index,axis=0)\n",
    "        train_y=np.delete(train_y,max_index,axis=0)"
   ]
  },
  {
   "cell_type": "code",
   "execution_count": 11,
   "metadata": {},
   "outputs": [
    {
     "data": {
      "text/plain": [
       "(5130, 20)"
      ]
     },
     "execution_count": 11,
     "metadata": {},
     "output_type": "execute_result"
    }
   ],
   "source": [
    "train_x.shape"
   ]
  },
  {
   "cell_type": "code",
   "execution_count": 12,
   "metadata": {},
   "outputs": [],
   "source": [
    "from sklearn.ensemble import AdaBoostClassifier\n",
    "from sklearn.linear_model import LogisticRegression\n",
    "from sklearn.tree import DecisionTreeClassifier"
   ]
  },
  {
   "cell_type": "code",
   "execution_count": 13,
   "metadata": {},
   "outputs": [],
   "source": [
    "#performance is bad\n",
    "#adaboost=AdaBoostClassifier(base_estimator=LogisticRegression(solver='lbfgs',multi_class='auto'), n_estimators=2500)\n",
    "#adaboost=adaboost.fit(train_x,train_y)\n",
    "#adaboost.score(test_x,test_y)"
   ]
  },
  {
   "cell_type": "code",
   "execution_count": 14,
   "metadata": {},
   "outputs": [
    {
     "data": {
      "text/plain": [
       "GridSearchCV(cv=10, error_score='raise-deprecating',\n",
       "             estimator=DecisionTreeClassifier(class_weight=None,\n",
       "                                              criterion='gini', max_depth=None,\n",
       "                                              max_features=None,\n",
       "                                              max_leaf_nodes=None,\n",
       "                                              min_impurity_decrease=0.0,\n",
       "                                              min_impurity_split=None,\n",
       "                                              min_samples_leaf=1,\n",
       "                                              min_samples_split=2,\n",
       "                                              min_weight_fraction_leaf=0.0,\n",
       "                                              presort=False, random_state=None,\n",
       "                                              splitter='best'),\n",
       "             iid='warn', n_jobs=-1, param_grid={'max_depth': range(1, 20)},\n",
       "             pre_dispatch='2*n_jobs', refit=True, return_train_score=False,\n",
       "             scoring=None, verbose=0)"
      ]
     },
     "execution_count": 14,
     "metadata": {},
     "output_type": "execute_result"
    }
   ],
   "source": [
    "#for intuition:what is the best depth for simple tree calssifier\n",
    "tree=DecisionTreeClassifier()\n",
    "depth={}\n",
    "depth={\"max_depth\":range(1,20)}\n",
    "from sklearn.model_selection import GridSearchCV\n",
    "tree=DecisionTreeClassifier()\n",
    "CVsearch=GridSearchCV(estimator=tree,param_grid=depth,cv=10,n_jobs=-1)\n",
    "CVsearch.fit(train_x,train_y)"
   ]
  },
  {
   "cell_type": "code",
   "execution_count": 15,
   "metadata": {},
   "outputs": [
    {
     "data": {
      "text/plain": [
       "array([0.50545809, 0.5497076 , 0.58011696, 0.60331384, 0.62280702,\n",
       "       0.63664717, 0.64697856, 0.64873294, 0.65380117, 0.65068226,\n",
       "       0.65867446, 0.65477583, 0.65419103, 0.65282651, 0.64463938,\n",
       "       0.64931774, 0.64230019, 0.64346979, 0.64093567])"
      ]
     },
     "execution_count": 15,
     "metadata": {},
     "output_type": "execute_result"
    }
   ],
   "source": [
    "CVsearch.cv_results_['mean_test_score']"
   ]
  },
  {
   "cell_type": "code",
   "execution_count": 16,
   "metadata": {},
   "outputs": [
    {
     "data": {
      "text/plain": [
       "11"
      ]
     },
     "execution_count": 16,
     "metadata": {},
     "output_type": "execute_result"
    }
   ],
   "source": [
    "best_depth=CVsearch.best_params_[\"max_depth\"]\n",
    "best_depth"
   ]
  },
  {
   "cell_type": "code",
   "execution_count": 17,
   "metadata": {},
   "outputs": [
    {
     "data": {
      "text/plain": [
       "0.6586744639376219"
      ]
     },
     "execution_count": 17,
     "metadata": {},
     "output_type": "execute_result"
    }
   ],
   "source": [
    "#0.6425\n",
    "CVsearch.best_score_"
   ]
  },
  {
   "cell_type": "code",
   "execution_count": 18,
   "metadata": {},
   "outputs": [
    {
     "name": "stdout",
     "output_type": "stream",
     "text": [
      "train score: 0.724561403508772 test score: 0.64\n"
     ]
    }
   ],
   "source": [
    "best_tree=DecisionTreeClassifier(max_depth=best_depth)\n",
    "best_tree.fit(train_x,train_y)\n",
    "print(\"train score:\",best_tree.score(train_x,train_y),\"test score:\",best_tree.score(test_x,test_y))"
   ]
  },
  {
   "cell_type": "code",
   "execution_count": 19,
   "metadata": {},
   "outputs": [],
   "source": [
    "#score comparison:simple tree;ensemble boosting tree; bagging+boosting tree\n",
    "simple_tree_train_score=np.zeros([20,1])\n",
    "simple_tree_test_score=np.zeros([20,1])\n",
    "for i in range(1,21):\n",
    "    tree=DecisionTreeClassifier(max_depth=i)\n",
    "    tree.fit(train_x,train_y)\n",
    "    simple_tree_train_score[i-1]=tree.score(train_x,train_y)\n",
    "    simple_tree_test_score[i-1]=tree.score(test_x,test_y)"
   ]
  },
  {
   "cell_type": "code",
   "execution_count": 20,
   "metadata": {},
   "outputs": [
    {
     "name": "stdout",
     "output_type": "stream",
     "text": [
      "totally cost 322.1342656612396\n"
     ]
    }
   ],
   "source": [
    "time_start=time.time()\n",
    "adaboost_tree_train_score=np.zeros([20,1])\n",
    "adaboost_tree_test_score=np.zeros([20,1])\n",
    "for i in range(1,21):\n",
    "    adaboost_tree=AdaBoostClassifier(base_estimator=DecisionTreeClassifier(max_depth=i), n_estimators=100)\n",
    "    adaboost_tree.fit(train_x,train_y)\n",
    "    adaboost_tree_train_score[i-1]=adaboost_tree.score(train_x,train_y)\n",
    "    adaboost_tree_test_score[i-1]=adaboost_tree.score(test_x,test_y)\n",
    "time_end=time.time()\n",
    "print('totally cost',time_end-time_start)"
   ]
  },
  {
   "cell_type": "code",
   "execution_count": 38,
   "metadata": {},
   "outputs": [
    {
     "data": {
      "text/plain": [
       "<matplotlib.axes._subplots.AxesSubplot at 0x2c9fc03f788>"
      ]
     },
     "execution_count": 38,
     "metadata": {},
     "output_type": "execute_result"
    },
    {
     "data": {
      "image/png": "[encoded data removed]",
      "text/plain": [
       "<Figure size 432x288 with 1 Axes>"
      ]
     },
     "metadata": {
      "needs_background": "light"
     },
     "output_type": "display_data"
    }
   ],
   "source": [
    "pd.Series(adaboost_tree.feature_importances_).sort_values().plot(kind=\"barh\")"
   ]
  },
  {
   "cell_type": "code",
   "execution_count": 21,
   "metadata": {
    "scrolled": false
   },
   "outputs": [
    {
     "data": {
      "text/plain": [
       "array([[0.56333333],\n",
       "       [0.57166667],\n",
       "       [0.475     ],\n",
       "       [0.54      ],\n",
       "       [0.59166667],\n",
       "       [0.59333333],\n",
       "       [0.59833333],\n",
       "       [0.63833333],\n",
       "       [0.645     ],\n",
       "       [0.65166667],\n",
       "       [0.64833333],\n",
       "       [0.66166667],\n",
       "       [0.65833333],\n",
       "       [0.67166667],\n",
       "       [0.67833333],\n",
       "       [0.66666667],\n",
       "       [0.67      ],\n",
       "       [0.66333333],\n",
       "       [0.66833333],\n",
       "       [0.665     ]])"
      ]
     },
     "execution_count": 21,
     "metadata": {},
     "output_type": "execute_result"
    }
   ],
   "source": [
    "adaboost_tree_test_score"
   ]
  },
  {
   "cell_type": "code",
   "execution_count": 22,
   "metadata": {},
   "outputs": [],
   "source": [
    "from sklearn.ensemble import BaggingClassifier\n",
    "bagging_adaboost_train_score=np.zeros([20,1])\n",
    "bagging_adaboost_test_score=np.zeros([20,1])\n",
    "for i in range(1,21):\n",
    "    bagging_adaboost=BaggingClassifier(base_estimator=(AdaBoostClassifier(base_estimator=DecisionTreeClassifier(max_depth=i), n_estimators=100)),n_jobs=-1)\n",
    "    bagging_adaboost.fit(train_x,train_y)\n",
    "    bagging_adaboost_train_score[i-1]=bagging_adaboost.score(train_x,train_y)\n",
    "    bagging_adaboost_test_score[i-1]=bagging_adaboost.score(test_x,test_y)"
   ]
  },
  {
   "cell_type": "code",
   "execution_count": 23,
   "metadata": {},
   "outputs": [
    {
     "data": {
      "text/plain": [
       "Text(0, 0.5, 'score')"
      ]
     },
     "execution_count": 23,
     "metadata": {},
     "output_type": "execute_result"
    },
    {
     "data": {
      "image/png": "[encoded data removed]",
      "text/plain": [
       "<Figure size 432x288 with 1 Axes>"
      ]
     },
     "metadata": {
      "needs_background": "light"
     },
     "output_type": "display_data"
    }
   ],
   "source": [
    "plt.plot(range(1,21),simple_tree_train_score,'o-',range(1,21),adaboost_tree_train_score,'o-',range(1,21),bagging_adaboost_train_score,'o-')\n",
    "plt.legend([\"decision tree classifier\",\"adaboost+decision tree classifier\",\"bagging+adaboost+decision tree calssifier\"])\n",
    "plt.text(12.5,0.65,\"the number of base esitmator tree in adaboost is 100\")\n",
    "plt.text(12.5,0.62,\"the number of sub-samples draw from orginal dataset is 10\")\n",
    "plt.title(\"training set score\")\n",
    "plt.xlabel(\"depth of decision tree\")\n",
    "plt.ylabel(\"score\")"
   ]
  },
  {
   "cell_type": "code",
   "execution_count": 24,
   "metadata": {},
   "outputs": [
    {
     "data": {
      "text/plain": [
       "Text(0, 0.5, 'score')"
      ]
     },
     "execution_count": 24,
     "metadata": {},
     "output_type": "execute_result"
    },
    {
     "data": {
      "image/png": "[encoded data removed]",
      "text/plain": [
       "<Figure size 432x288 with 1 Axes>"
      ]
     },
     "metadata": {
      "needs_background": "light"
     },
     "output_type": "display_data"
    }
   ],
   "source": [
    "#0.67\n",
    "plt.plot(range(1,21),simple_tree_test_score,'o-',range(1,21),adaboost_tree_test_score,'o-',range(1,21),bagging_adaboost_test_score,'o-')\n",
    "plt.legend([\"decision tree classifier\",\"adaboost+decision tree classifier\",\"bagging+adaboost+decision tree calssifier\"])\n",
    "plt.text(7.5,0.55,\"the number of base esitmator tree in adaboost is 100\")\n",
    "plt.text(7.5,0.53,\"the number of sub-samples draw from orginal dataset is 10\")\n",
    "plt.title(\"test set score\")\n",
    "plt.xlabel(\"depth of decision tree\")\n",
    "plt.ylabel(\"score\")"
   ]
  },
  {
   "cell_type": "code",
   "execution_count": 25,
   "metadata": {},
   "outputs": [
    {
     "data": {
      "text/plain": [
       "[1, 3, 5]"
      ]
     },
     "execution_count": 25,
     "metadata": {},
     "output_type": "execute_result"
    }
   ],
   "source": [
    "list(range(1,7,2))"
   ]
  },
  {
   "cell_type": "code",
   "execution_count": 26,
   "metadata": {},
   "outputs": [
    {
     "data": {
      "text/plain": [
       "GridSearchCV(cv=4, error_score='raise-deprecating',\n",
       "             estimator=AdaBoostClassifier(algorithm='SAMME.R',\n",
       "                                          base_estimator=DecisionTreeClassifier(class_weight=None,\n",
       "                                                                                criterion='gini',\n",
       "                                                                                max_depth=2,\n",
       "                                                                                max_features=None,\n",
       "                                                                                max_leaf_nodes=None,\n",
       "                                                                                min_impurity_decrease=0.0,\n",
       "                                                                                min_impurity_split=None,\n",
       "                                                                                min_samples_leaf=1,\n",
       "                                                                                min_samples_split=2,\n",
       "                                                                                min_weight_fraction_leaf=0.0,\n",
       "                                                                                presort=False,\n",
       "                                                                                random_state=None,\n",
       "                                                                                splitter='best'),\n",
       "                                          learning_rate=1.0, n_estimators=50,\n",
       "                                          random_state=None),\n",
       "             iid='warn', n_jobs=-1,\n",
       "             param_grid={'n_estimators': range(10, 200, 10)},\n",
       "             pre_dispatch='2*n_jobs', refit=True, return_train_score=False,\n",
       "             scoring=None, verbose=0)"
      ]
     },
     "execution_count": 26,
     "metadata": {},
     "output_type": "execute_result"
    }
   ],
   "source": [
    "#improvement using pca\n",
    "#first step: search for best base estimator number:\n",
    "from sklearn.model_selection import GridSearchCV\n",
    "ada=AdaBoostClassifier(base_estimator=DecisionTreeClassifier(max_depth=2))\n",
    "estimator_dict={\"n_estimators\":range(10,200,10)}\n",
    "CVsearch=GridSearchCV(estimator=ada,param_grid=estimator_dict,cv=4,n_jobs=-1)\n",
    "CVsearch.fit(train_x,train_y)"
   ]
  },
  {
   "cell_type": "code",
   "execution_count": 27,
   "metadata": {},
   "outputs": [
    {
     "data": {
      "text/plain": [
       "{'n_estimators': 30}"
      ]
     },
     "execution_count": 27,
     "metadata": {},
     "output_type": "execute_result"
    }
   ],
   "source": [
    "CVsearch.best_params_"
   ]
  },
  {
   "cell_type": "code",
   "execution_count": 28,
   "metadata": {},
   "outputs": [
    {
     "name": "stdout",
     "output_type": "stream",
     "text": [
      "train score: 0.6313840155945419 test score: 0.61\n",
      "totally cost 0.9544706344604492\n"
     ]
    }
   ],
   "source": [
    "import time\n",
    "time_start=time.time()\n",
    "best_ada=AdaBoostClassifier(base_estimator=DecisionTreeClassifier(max_depth=2),n_estimators=20)\n",
    "best_ada.fit(train_x,train_y)\n",
    "l=best_ada.predict(test_x)\n",
    "time_end=time.time()\n",
    "print(\"train score:\",best_ada.score(train_x,train_y),\"test score:\",best_ada.score(test_x,test_y))\n",
    "print('totally cost',time_end-time_start)"
   ]
  },
  {
   "cell_type": "code",
   "execution_count": 29,
   "metadata": {},
   "outputs": [
    {
     "data": {
      "text/plain": [
       "0.5500974658869395"
      ]
     },
     "execution_count": 29,
     "metadata": {},
     "output_type": "execute_result"
    }
   ],
   "source": [
    "b=DecisionTreeClassifier(max_depth=2)\n",
    "b.fit(train_x,train_y)\n",
    "b.score(train_x,train_y)"
   ]
  },
  {
   "cell_type": "code",
   "execution_count": 30,
   "metadata": {
    "scrolled": true
   },
   "outputs": [],
   "source": [
    "#TRY CHANGE BASE ESTIMATOR TO SVM\n",
    "#from sklearn.svm import SVC\n",
    "#svm=SVC(C=100,kernel='rbf')\n",
    "#svm_adaboost=AdaBoostClassifier(base_estimator=svm,n_estimators=20,algorithm='SAMME',gamma=\"auto\")\n",
    "#svm_adaboost.fit(train_x,train_y)"
   ]
  },
  {
   "cell_type": "code",
   "execution_count": 31,
   "metadata": {},
   "outputs": [
    {
     "data": {
      "text/plain": [
       "((5130, 8), (5130, 20))"
      ]
     },
     "execution_count": 31,
     "metadata": {},
     "output_type": "execute_result"
    }
   ],
   "source": [
    "from sklearn.decomposition import PCA\n",
    "pca_decompo = PCA(n_components=8)\n",
    "new_train_x = pca_decompo.fit_transform(train_x)\n",
    "new_test_x = pca_decompo.fit_transform(test_x)\n",
    "new_train_x.shape,train_x.shape"
   ]
  },
  {
   "cell_type": "code",
   "execution_count": 32,
   "metadata": {},
   "outputs": [
    {
     "name": "stdout",
     "output_type": "stream",
     "text": [
      "0.9986761904152176\n"
     ]
    }
   ],
   "source": [
    "print(pca_decompo.explained_variance_ratio_.sum())"
   ]
  },
  {
   "cell_type": "code",
   "execution_count": 33,
   "metadata": {},
   "outputs": [
    {
     "name": "stdout",
     "output_type": "stream",
     "text": [
      "train score: 0.49746588693957117 test score: 0.30666666666666664\n",
      "totally cost 0.7370274066925049\n"
     ]
    }
   ],
   "source": [
    "import time\n",
    "time_start=time.time()\n",
    "best_ada=AdaBoostClassifier(base_estimator=DecisionTreeClassifier(max_depth=2),n_estimators=20)\n",
    "best_ada.fit(new_train_x,train_y)\n",
    "l=best_ada.predict(new_test_x)\n",
    "time_end=time.time()\n",
    "print(\"train score:\",best_ada.score(new_train_x,train_y),\"test score:\",best_ada.score(new_test_x,test_y))\n",
    "print('totally cost',time_end-time_start)"
   ]
  },
  {
   "cell_type": "code",
   "execution_count": null,
   "metadata": {},
   "outputs": [],
   "source": []
  },
  {
   "cell_type": "code",
   "execution_count": null,
   "metadata": {},
   "outputs": [],
   "source": []
  }
 ],
 "metadata": {
  "kernelspec": {
   "display_name": "Python 3",
   "language": "python",
   "name": "python3"
  },
  "language_info": {
   "codemirror_mode": {
    "name": "ipython",
    "version": 3
   },
   "file_extension": ".py",
   "mimetype": "text/x-python",
   "name": "python",
   "nbconvert_exporter": "python",
   "pygments_lexer": "ipython3",
   "version": "3.7.4"
  }
 },
 "nbformat": 4,
 "nbformat_minor": 2
}
