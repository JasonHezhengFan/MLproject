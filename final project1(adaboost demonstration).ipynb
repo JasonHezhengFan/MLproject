{
 "cells": [
  {
   "cell_type": "code",
   "execution_count": 1,
   "metadata": {},
   "outputs": [],
   "source": [
    "import numpy as np\n",
    "import matplotlib.pyplot as plt\n",
    "import pandas as pd"
   ]
  },
  {
   "cell_type": "code",
   "execution_count": 2,
   "metadata": {},
   "outputs": [],
   "source": [
    "from sklearn.ensemble import AdaBoostClassifier\n",
    "from sklearn import datasets\n",
    "from sklearn.model_selection import train_test_split\n",
    "from sklearn import metrics\n",
    "import math\n",
    "iris = datasets.load_iris()"
   ]
  },
  {
   "cell_type": "code",
   "execution_count": 3,
   "metadata": {},
   "outputs": [
    {
     "data": {
      "text/html": [
       "<div>\n",
       "<style scoped>\n",
       "    .dataframe tbody tr th:only-of-type {\n",
       "        vertical-align: middle;\n",
       "    }\n",
       "\n",
       "    .dataframe tbody tr th {\n",
       "        vertical-align: top;\n",
       "    }\n",
       "\n",
       "    .dataframe thead th {\n",
       "        text-align: right;\n",
       "    }\n",
       "</style>\n",
       "<table border=\"1\" class=\"dataframe\">\n",
       "  <thead>\n",
       "    <tr style=\"text-align: right;\">\n",
       "      <th></th>\n",
       "      <th>feature1</th>\n",
       "      <th>feature2</th>\n",
       "      <th>feature3</th>\n",
       "      <th>feature4</th>\n",
       "      <th>0</th>\n",
       "    </tr>\n",
       "  </thead>\n",
       "  <tbody>\n",
       "    <tr>\n",
       "      <td>0</td>\n",
       "      <td>5.1</td>\n",
       "      <td>3.5</td>\n",
       "      <td>1.4</td>\n",
       "      <td>0.2</td>\n",
       "      <td>0</td>\n",
       "    </tr>\n",
       "    <tr>\n",
       "      <td>1</td>\n",
       "      <td>4.9</td>\n",
       "      <td>3.0</td>\n",
       "      <td>1.4</td>\n",
       "      <td>0.2</td>\n",
       "      <td>0</td>\n",
       "    </tr>\n",
       "    <tr>\n",
       "      <td>2</td>\n",
       "      <td>4.7</td>\n",
       "      <td>3.2</td>\n",
       "      <td>1.3</td>\n",
       "      <td>0.2</td>\n",
       "      <td>0</td>\n",
       "    </tr>\n",
       "    <tr>\n",
       "      <td>3</td>\n",
       "      <td>4.6</td>\n",
       "      <td>3.1</td>\n",
       "      <td>1.5</td>\n",
       "      <td>0.2</td>\n",
       "      <td>0</td>\n",
       "    </tr>\n",
       "    <tr>\n",
       "      <td>4</td>\n",
       "      <td>5.0</td>\n",
       "      <td>3.6</td>\n",
       "      <td>1.4</td>\n",
       "      <td>0.2</td>\n",
       "      <td>0</td>\n",
       "    </tr>\n",
       "    <tr>\n",
       "      <td>...</td>\n",
       "      <td>...</td>\n",
       "      <td>...</td>\n",
       "      <td>...</td>\n",
       "      <td>...</td>\n",
       "      <td>...</td>\n",
       "    </tr>\n",
       "    <tr>\n",
       "      <td>145</td>\n",
       "      <td>6.7</td>\n",
       "      <td>3.0</td>\n",
       "      <td>5.2</td>\n",
       "      <td>2.3</td>\n",
       "      <td>2</td>\n",
       "    </tr>\n",
       "    <tr>\n",
       "      <td>146</td>\n",
       "      <td>6.3</td>\n",
       "      <td>2.5</td>\n",
       "      <td>5.0</td>\n",
       "      <td>1.9</td>\n",
       "      <td>2</td>\n",
       "    </tr>\n",
       "    <tr>\n",
       "      <td>147</td>\n",
       "      <td>6.5</td>\n",
       "      <td>3.0</td>\n",
       "      <td>5.2</td>\n",
       "      <td>2.0</td>\n",
       "      <td>2</td>\n",
       "    </tr>\n",
       "    <tr>\n",
       "      <td>148</td>\n",
       "      <td>6.2</td>\n",
       "      <td>3.4</td>\n",
       "      <td>5.4</td>\n",
       "      <td>2.3</td>\n",
       "      <td>2</td>\n",
       "    </tr>\n",
       "    <tr>\n",
       "      <td>149</td>\n",
       "      <td>5.9</td>\n",
       "      <td>3.0</td>\n",
       "      <td>5.1</td>\n",
       "      <td>1.8</td>\n",
       "      <td>2</td>\n",
       "    </tr>\n",
       "  </tbody>\n",
       "</table>\n",
       "<p>150 rows × 5 columns</p>\n",
       "</div>"
      ],
      "text/plain": [
       "     feature1  feature2  feature3  feature4  0\n",
       "0         5.1       3.5       1.4       0.2  0\n",
       "1         4.9       3.0       1.4       0.2  0\n",
       "2         4.7       3.2       1.3       0.2  0\n",
       "3         4.6       3.1       1.5       0.2  0\n",
       "4         5.0       3.6       1.4       0.2  0\n",
       "..        ...       ...       ...       ... ..\n",
       "145       6.7       3.0       5.2       2.3  2\n",
       "146       6.3       2.5       5.0       1.9  2\n",
       "147       6.5       3.0       5.2       2.0  2\n",
       "148       6.2       3.4       5.4       2.3  2\n",
       "149       5.9       3.0       5.1       1.8  2\n",
       "\n",
       "[150 rows x 5 columns]"
      ]
     },
     "execution_count": 3,
     "metadata": {},
     "output_type": "execute_result"
    }
   ],
   "source": [
    "data=pd.DataFrame(iris.data,columns=['feature1','feature2','feature3','feature4'])\n",
    "target=pd.DataFrame(iris.target)\n",
    "#traget=target.rename(columns={\"0\":\"target\"})\n",
    "train=pd.concat([data,target],axis=1)\n",
    "train"
   ]
  },
  {
   "cell_type": "code",
   "execution_count": 4,
   "metadata": {},
   "outputs": [],
   "source": [
    "train_set=train[(train[0] ==0) |(train[0] == 1)]"
   ]
  },
  {
   "cell_type": "code",
   "execution_count": 5,
   "metadata": {},
   "outputs": [
    {
     "name": "stderr",
     "output_type": "stream",
     "text": [
      "D:\\anaconda\\lib\\site-packages\\pandas\\core\\frame.py:4102: SettingWithCopyWarning: \n",
      "A value is trying to be set on a copy of a slice from a DataFrame\n",
      "\n",
      "See the caveats in the documentation: http://pandas.pydata.org/pandas-docs/stable/user_guide/indexing.html#returning-a-view-versus-a-copy\n",
      "  errors=errors,\n"
     ]
    }
   ],
   "source": [
    "train_set.drop(['feature3','feature4'],axis=1,inplace=True)"
   ]
  },
  {
   "cell_type": "code",
   "execution_count": 6,
   "metadata": {},
   "outputs": [
    {
     "data": {
      "text/html": [
       "<div>\n",
       "<style scoped>\n",
       "    .dataframe tbody tr th:only-of-type {\n",
       "        vertical-align: middle;\n",
       "    }\n",
       "\n",
       "    .dataframe tbody tr th {\n",
       "        vertical-align: top;\n",
       "    }\n",
       "\n",
       "    .dataframe thead th {\n",
       "        text-align: right;\n",
       "    }\n",
       "</style>\n",
       "<table border=\"1\" class=\"dataframe\">\n",
       "  <thead>\n",
       "    <tr style=\"text-align: right;\">\n",
       "      <th></th>\n",
       "      <th>feature1</th>\n",
       "      <th>feature2</th>\n",
       "      <th>0</th>\n",
       "    </tr>\n",
       "  </thead>\n",
       "  <tbody>\n",
       "    <tr>\n",
       "      <td>0</td>\n",
       "      <td>5.1</td>\n",
       "      <td>3.5</td>\n",
       "      <td>0</td>\n",
       "    </tr>\n",
       "    <tr>\n",
       "      <td>1</td>\n",
       "      <td>4.9</td>\n",
       "      <td>3.0</td>\n",
       "      <td>0</td>\n",
       "    </tr>\n",
       "    <tr>\n",
       "      <td>2</td>\n",
       "      <td>4.7</td>\n",
       "      <td>3.2</td>\n",
       "      <td>0</td>\n",
       "    </tr>\n",
       "    <tr>\n",
       "      <td>3</td>\n",
       "      <td>4.6</td>\n",
       "      <td>3.1</td>\n",
       "      <td>0</td>\n",
       "    </tr>\n",
       "    <tr>\n",
       "      <td>4</td>\n",
       "      <td>5.0</td>\n",
       "      <td>3.6</td>\n",
       "      <td>0</td>\n",
       "    </tr>\n",
       "    <tr>\n",
       "      <td>...</td>\n",
       "      <td>...</td>\n",
       "      <td>...</td>\n",
       "      <td>...</td>\n",
       "    </tr>\n",
       "    <tr>\n",
       "      <td>95</td>\n",
       "      <td>5.7</td>\n",
       "      <td>3.0</td>\n",
       "      <td>1</td>\n",
       "    </tr>\n",
       "    <tr>\n",
       "      <td>96</td>\n",
       "      <td>5.7</td>\n",
       "      <td>2.9</td>\n",
       "      <td>1</td>\n",
       "    </tr>\n",
       "    <tr>\n",
       "      <td>97</td>\n",
       "      <td>6.2</td>\n",
       "      <td>2.9</td>\n",
       "      <td>1</td>\n",
       "    </tr>\n",
       "    <tr>\n",
       "      <td>98</td>\n",
       "      <td>5.1</td>\n",
       "      <td>2.5</td>\n",
       "      <td>1</td>\n",
       "    </tr>\n",
       "    <tr>\n",
       "      <td>99</td>\n",
       "      <td>5.7</td>\n",
       "      <td>2.8</td>\n",
       "      <td>1</td>\n",
       "    </tr>\n",
       "  </tbody>\n",
       "</table>\n",
       "<p>100 rows × 3 columns</p>\n",
       "</div>"
      ],
      "text/plain": [
       "    feature1  feature2  0\n",
       "0        5.1       3.5  0\n",
       "1        4.9       3.0  0\n",
       "2        4.7       3.2  0\n",
       "3        4.6       3.1  0\n",
       "4        5.0       3.6  0\n",
       "..       ...       ... ..\n",
       "95       5.7       3.0  1\n",
       "96       5.7       2.9  1\n",
       "97       6.2       2.9  1\n",
       "98       5.1       2.5  1\n",
       "99       5.7       2.8  1\n",
       "\n",
       "[100 rows x 3 columns]"
      ]
     },
     "execution_count": 6,
     "metadata": {},
     "output_type": "execute_result"
    }
   ],
   "source": [
    "train_set"
   ]
  },
  {
   "cell_type": "code",
   "execution_count": 7,
   "metadata": {},
   "outputs": [],
   "source": [
    "set0=train_set[train_set[0]==0]\n",
    "train_x1=np.array(train_set['feature1'])\n",
    "train_x1=train_x1.reshape(-1,1)\n",
    "train_x2=np.array(train_set['feature2'])\n",
    "train_x2=train_x2.reshape(-1,1)\n",
    "train_x=np.c_[train_x1,train_x2]\n",
    "train_y=np.array(train_set[0]).reshape(-1,1)\n",
    "adaboost=0\n",
    "alpha_set=np.zeros([10000,1])\n",
    "lr_dict={}"
   ]
  },
  {
   "cell_type": "markdown",
   "metadata": {},
   "source": [
    "# other methods\n",
    "from sklearn.svm import SVC \n",
    "svm=SVC(C=1, kernel='linear')\n",
    "svm.fit(train_x,train_y)\n",
    "svm.score(train_x,train_y)\n",
    "from sklearn.tree import DecisionTreeClassifier\n",
    "tree=DecisionTreeClassifier(max_depth=1)\n",
    "tree.fit(train_x,train_y)\n",
    "tree.score(train_x,train_y)\n",
    "tree.predict(train_x)"
   ]
  },
  {
   "cell_type": "code",
   "execution_count": 8,
   "metadata": {},
   "outputs": [],
   "source": [
    "from sklearn.linear_model import LogisticRegression"
   ]
  },
  {
   "cell_type": "code",
   "execution_count": null,
   "metadata": {},
   "outputs": [],
   "source": []
  },
  {
   "cell_type": "markdown",
   "metadata": {},
   "source": [
    "new_weight=np.ones(train_set[0].shape)/len(train_set[0])\n",
    "new_weight=new_weight.reshape(-1,1)*100\n",
    "new_weight=new_weight.reshape(-1,)\n",
    "lr_dict[0]=LogisticRegression(C=0.005,solver='liblinear',class_weight={0:1,1:1})\n",
    "lr_dict[0].fit(train_x,train_y,sample_weight=new_weight)\n",
    "lr_dict[0].score(train_x,train_y,sample_weight=new_weight)"
   ]
  },
  {
   "cell_type": "code",
   "execution_count": 9,
   "metadata": {},
   "outputs": [],
   "source": [
    "\n",
    "def plot_decision_boundary(pred_func,train_set,X):\n",
    "    set0=train_set[train_set[0]==0]\n",
    "    x0_1=np.array(set0['feature1'])\n",
    "    x0_1=x0_1.reshape(-1,1)\n",
    "    x0_2=np.array(set0['feature2'])\n",
    "    x0_2=x0_2.reshape(-1,1)\n",
    "    set1=train_set[train_set[0]==1]\n",
    "    x1_1=np.array(set1['feature1'])\n",
    "    x1_1=x1_1.reshape(-1,1)\n",
    "    x1_2=np.array(set1['feature2'])\n",
    "    x1_2=x1_2.reshape(-1,1)\n",
    "    \n",
    "    # set max and min, add a 0.5 margin\n",
    "    x_min, x_max = X[:, 0].min() - .5, X[:, 0].max() + .5\n",
    "    y_min, y_max = X[:, 1].min() - .5, X[:, 1].max() + .5\n",
    "    h = 0.01\n",
    " \n",
    "    xx, yy = np.meshgrid(np.arange(x_min, x_max, h), np.arange(y_min, y_max, h))\n",
    "    Z = pred_func(np.c_[xx.ravel(), yy.ravel()])\n",
    "    Z = Z.reshape(xx.shape)\n",
    "    # using contouf to plot decision boundary\n",
    "    plt.contourf(xx, yy, Z)\n",
    "    plt.scatter(x0_1, x0_2,marker=\"o\",label='category 1')\n",
    "    plt.scatter(x1_1, x1_2,marker=\"v\",label='category 2')\n",
    "    plt.legend()"
   ]
  },
  {
   "cell_type": "code",
   "execution_count": 10,
   "metadata": {},
   "outputs": [],
   "source": [
    "#plot_decision_boundary(lambda x: lr_dict[0].predict(x),train_set,train_x)"
   ]
  },
  {
   "cell_type": "code",
   "execution_count": 11,
   "metadata": {},
   "outputs": [],
   "source": [
    "def learner_weight(minError):\n",
    "    alpha = 1/2 * (math.log((1-minError)/minError))\n",
    "    return alpha"
   ]
  },
  {
   "cell_type": "code",
   "execution_count": 12,
   "metadata": {},
   "outputs": [],
   "source": [
    "def error_calculation1(predict,true):\n",
    "    right=sum((predict==true)*1)/len(true)\n",
    "    error=1-right\n",
    "    return error"
   ]
  },
  {
   "cell_type": "code",
   "execution_count": 13,
   "metadata": {},
   "outputs": [],
   "source": [
    "def error_calculation(lr_dict,p,train_x,train_y,new_weight):\n",
    "    error=1-lr_dict[p].score(train_x,train_y,sample_weight=new_weight)\n",
    "    return error"
   ]
  },
  {
   "cell_type": "code",
   "execution_count": 14,
   "metadata": {},
   "outputs": [],
   "source": [
    "def new_sample_weight(alpha,weight, train_set, prediction):\n",
    "    sumWeight = 0\n",
    "    for i in range(len(train_set[0])):\n",
    "        if train_set[0][i] != prediction[i]:\n",
    "            flag=1\n",
    "            weight[i] = weight[i]*math.exp(alpha*flag)\n",
    "        else:\n",
    "            flag=-1\n",
    "            weight[i] = weight[i]*math.exp(alpha*flag)\n",
    "        sumWeight += weight[i]\n",
    "    for i in range(len(train_set[0])):\n",
    "        weight[i] = weight[i] / sumWeight\n",
    " \n",
    "    return weight"
   ]
  },
  {
   "cell_type": "markdown",
   "metadata": {},
   "source": [
    "error=error_calculation1(lr_dict[0].predict(train_x).reshape(-1,1),train_y)\n",
    "alpha=learner_weight(error)\n",
    "alpha_set[0]=alpha\n",
    "adaboost+=alpha*lr_dict[0].predict(train_x)\n",
    "prediction=lr_dict[0].predict(train_x)\n",
    "new_weight=new_sample_weight(alpha,weight, train_set, prediction)"
   ]
  },
  {
   "cell_type": "markdown",
   "metadata": {},
   "source": [
    "new_weight=new_weight.reshape(-1,)\n",
    "lr_dict[1]=LogisticRegression(C=1)\n",
    "lr_dict[1].fit(train_x,train_y,sample_weight=new_weight)"
   ]
  },
  {
   "cell_type": "markdown",
   "metadata": {},
   "source": [
    "lr_dict[1].score(train_x,train_y,sample_weight=new_weight)"
   ]
  },
  {
   "cell_type": "code",
   "execution_count": 15,
   "metadata": {},
   "outputs": [],
   "source": [
    "#error=error_calculation(lr_dict[1].predict(train_x).reshape(-1,1),train_y)\n",
    "#alpha=learner_weight(error)\n",
    "#alpha_set[1]=alpha\n",
    "#adaboost+=alpha*lr_dict[1].predict(train_x)\n",
    "#prediction=lr_dict[1].predict(train_x)\n",
    "#new_weight=new_sample_weight(alpha,weight, train_set, prediction)"
   ]
  },
  {
   "cell_type": "code",
   "execution_count": 16,
   "metadata": {},
   "outputs": [],
   "source": [
    "def ensemble(x,i,lr_dict,alpha_set):\n",
    "    prediction=0\n",
    "    for k in range(i):\n",
    "        prediction=prediction+(alpha_set[k]/sum(alpha_set))*(lr_dict[k].predict(x))\n",
    "    for m in range(prediction.shape[0]):\n",
    "        if prediction[m]>=0.5:\n",
    "            prediction[m]=1\n",
    "        else:\n",
    "            prediction[m]=0\n",
    "    return prediction"
   ]
  },
  {
   "cell_type": "code",
   "execution_count": 17,
   "metadata": {},
   "outputs": [],
   "source": [
    "def plot_decision_boundary1(pred_func,train_set,X,i,lr_dict,alpha_set):\n",
    "    set0=train_set[train_set[0]==0]\n",
    "    x0_1=np.array(set0['feature1'])\n",
    "    x0_1=x0_1.reshape(-1,1)\n",
    "    x0_2=np.array(set0['feature2'])\n",
    "    x0_2=x0_2.reshape(-1,1)\n",
    "    set1=train_set[train_set[0]==1]\n",
    "    x1_1=np.array(set1['feature1'])\n",
    "    x1_1=x1_1.reshape(-1,1)\n",
    "    x1_2=np.array(set1['feature2'])\n",
    "    x1_2=x1_2.reshape(-1,1)\n",
    "    \n",
    "    # set max and min, add a 0.5 margin\n",
    "    x_min, x_max = X[:, 0].min() - .5, X[:, 0].max() + .5\n",
    "    y_min, y_max = X[:, 1].min() - .5, X[:, 1].max() + .5\n",
    "    h = 0.01\n",
    " \n",
    "    xx, yy = np.meshgrid(np.arange(x_min, x_max, h), np.arange(y_min, y_max, h))\n",
    "    Z = pred_func(np.c_[xx.ravel(), yy.ravel()],i,lr_dict,alpha_set)\n",
    "    Z = Z.reshape(xx.shape)\n",
    "    # using contouf to plot decision boundary\n",
    "    plt.contourf(xx, yy, Z)\n",
    "    plt.scatter(x0_1, x0_2,marker=\"o\",label='category 1')\n",
    "    plt.scatter(x1_1, x1_2,marker=\"v\",label='category 2')\n",
    "    plt.legend()"
   ]
  },
  {
   "cell_type": "code",
   "execution_count": 18,
   "metadata": {
    "scrolled": true
   },
   "outputs": [
    {
     "name": "stdout",
     "output_type": "stream",
     "text": [
      "0.81\n",
      "0.6913580246913582\n",
      "0.5789473684210528\n",
      "0.56\n",
      "0.5988837209302322\n",
      "0.5341880341880344\n",
      "0.6811753225587177\n",
      "0.9777815548377565\n",
      "0.5000000000000003\n",
      "0.4999999999999998\n",
      "0.5\n",
      "0.49999999999999983\n",
      "0.5000000000000001\n",
      "0.5000000000000001\n",
      "0.49999999999999983\n"
     ]
    },
    {
     "data": {
      "text/plain": [
       "<Figure size 432x288 with 0 Axes>"
      ]
     },
     "metadata": {},
     "output_type": "display_data"
    },
    {
     "data": {
      "image/png": "[encoded data removed]",
      "text/plain": [
       "<Figure size 1440x1440 with 15 Axes>"
      ]
     },
     "metadata": {
      "needs_background": "light"
     },
     "output_type": "display_data"
    }
   ],
   "source": [
    "plt.subplots_adjust(hspace=15,wspace=0.8)\n",
    "plt.figure(figsize=(20,20))\n",
    "for p in range(30):\n",
    "    if p == 0:\n",
    "        new_weight=np.ones(train_set[0].shape)/len(train_set[0])\n",
    "        new_weight=new_weight.reshape(-1,1)*100\n",
    "        new_weight=new_weight.reshape(-1,)\n",
    "        plt.subplot(5,3,1)\n",
    "        lr_dict[p]=LogisticRegression(C=0.005,solver='liblinear',class_weight={0:1,1:1})\n",
    "        lr_dict[p].fit(train_x,train_y.reshape(-1,),sample_weight=new_weight)\n",
    "        print(lr_dict[p].score(train_x,train_y,sample_weight=new_weight))\n",
    "        #lr_dict[p].score(train_x,train_y)\n",
    "        plot_decision_boundary(lambda x: lr_dict[p].predict(x),train_set,train_x)\n",
    "        error=error_calculation(lr_dict,p,train_x,train_y,new_weight)\n",
    "        alpha=learner_weight(error)\n",
    "        alpha_set[p]=alpha\n",
    "        #adaboost+=alpha*lr_dict[p].predict(train_x)\n",
    "        prediction=lr_dict[p].predict(train_x)\n",
    "        new_weight=new_sample_weight(alpha,new_weight, train_set, prediction)*100\n",
    "    elif (((p+1)%2==0) and p<28) :\n",
    "        plt.subplot(5,3,((p+1)/2)+1)\n",
    "        new_weight=new_weight.reshape(-1,)\n",
    "        lr_dict[p]=LogisticRegression(C=0.005,solver='liblinear',class_weight={0:1,1:1})\n",
    "        lr_dict[p].fit(train_x,train_y.reshape(-1,),sample_weight=new_weight)\n",
    "        print(lr_dict[p].score(train_x,train_y,sample_weight=new_weight))\n",
    "        error=error_calculation(lr_dict,p,train_x,train_y,new_weight)\n",
    "        alpha=learner_weight(error)\n",
    "        alpha_set[p]=alpha\n",
    "        #adaboost+=alpha*lr_dict[1].predict(train_x)\n",
    "        prediction=lr_dict[p].predict(train_x)\n",
    "        new_weight=new_weight.reshape(-1,1)\n",
    "        new_weight=new_sample_weight(alpha,new_weight, train_set, prediction)*100\n",
    "        plot_decision_boundary1(ensemble,train_set,train_x,p,lr_dict,alpha_set)\n",
    "    else:\n",
    "        new_weight=new_weight.reshape(-1,)\n",
    "        lr_dict[p]=LogisticRegression(C=0.005,solver='liblinear',class_weight={0:1,1:1})\n",
    "        lr_dict[p].fit(train_x,train_y.reshape(-1,),sample_weight=new_weight)\n",
    "        #print(lr_dict[p].score(train_x,train_y,sample_weight=new_weight))\n",
    "        error=error_calculation(lr_dict,p,train_x,train_y,new_weight)\n",
    "        #error=error_calculation(lr_dict[p].predict(train_x).reshape(-1,1),train_y)\n",
    "        alpha=learner_weight(error)\n",
    "        alpha_set[p]=alpha\n",
    "        #adaboost+=alpha*lr_dict[1].predict(train_x)\n",
    "        prediction=lr_dict[p].predict(train_x)\n",
    "        new_weight=new_weight.reshape(-1,1)\n",
    "        new_weight=new_sample_weight(alpha,new_weight, train_set, prediction)*100"
   ]
  },
  {
   "cell_type": "code",
   "execution_count": 19,
   "metadata": {},
   "outputs": [
    {
     "data": {
      "text/plain": [
       "array([[0.72500509],\n",
       "       [0.40323793],\n",
       "       [0.18974481],\n",
       "       [0.15922687],\n",
       "       [0.13721842],\n",
       "       [0.12058103],\n",
       "       [0.09724415],\n",
       "       [0.20040805],\n",
       "       [0.09158795],\n",
       "       [0.06848293],\n",
       "       [0.80825893],\n",
       "       [0.37958919],\n",
       "       [0.03384751],\n",
       "       [1.89218174],\n",
       "       [0.55649711]])"
      ]
     },
     "execution_count": 19,
     "metadata": {},
     "output_type": "execute_result"
    }
   ],
   "source": [
    "alpha_set[0:15]"
   ]
  },
  {
   "cell_type": "code",
   "execution_count": 20,
   "metadata": {},
   "outputs": [
    {
     "data": {
      "text/plain": [
       "<function __main__.ensemble(x, i, lr_dict, alpha_set)>"
      ]
     },
     "execution_count": 20,
     "metadata": {},
     "output_type": "execute_result"
    }
   ],
   "source": [
    "ensemble"
   ]
  },
  {
   "cell_type": "code",
   "execution_count": null,
   "metadata": {},
   "outputs": [],
   "source": []
  }
 ],
 "metadata": {
  "kernelspec": {
   "display_name": "Python 3",
   "language": "python",
   "name": "python3"
  },
  "language_info": {
   "codemirror_mode": {
    "name": "ipython",
    "version": 3
   },
   "file_extension": ".py",
   "mimetype": "text/x-python",
   "name": "python",
   "nbconvert_exporter": "python",
   "pygments_lexer": "ipython3",
   "version": "3.7.4"
  }
 },
 "nbformat": 4,
 "nbformat_minor": 2
}
